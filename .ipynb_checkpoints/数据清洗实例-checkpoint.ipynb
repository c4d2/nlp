{
 "cells": [
  {
   "cell_type": "code",
   "execution_count": 1,
   "id": "afc08f86",
   "metadata": {},
   "outputs": [],
   "source": [
    "import re\n",
    "from nltk.corpus import stopwords"
   ]
  },
  {
   "cell_type": "code",
   "execution_count": 3,
   "id": "26f19e3e",
   "metadata": {},
   "outputs": [],
   "source": [
    "#输入的数据\n",
    "s = \"       RT CAmila #Test\\nTom\\'s newly listed Co&amp:Mary\\'s unlisted Group to supply tech for nlTK.\\nh STSLA SAAPL https:/t.co/x34afs\"\n",
    "english_stopwords = stopwords.words('english')"
   ]
  },
  {
   "cell_type": "code",
   "execution_count": null,
   "id": "ffcee363",
   "metadata": {},
   "outputs": [],
   "source": [
    "def text_clean(text):\n",
    "    print('原始数据：',text,'\\n')\n",
    "    \n",
    "    #去HTL标签(e.g.&ap,)\n",
    "    text_no_special_entities re.sub(r'\\&\\w*;#\\w*@\\w*',''text)\n",
    "    print('去掉特殊标签后的：',text_no_special_.entities,.'\\n')\n",
    "          \n",
    "    #去掉一些价值符号\n",
    "    text_no_tickers =re.sub(r'\\$\\w*',''text_no_special_entities)\n",
    "    print('去掉价值符号后的：'，text_no_tickers,'\\n')\n",
    "    #去掉超链接\n",
    "    text_no_hyperlinks re.sub(r'https?:/.*/w*',''text_no_tickers)\n",
    "    print('去掉超链接后的：'，text_no_hyperlinks,'\\n')\n",
    "    #去掉一些专门名词缩写，简单来说就是字母比较少的词\n",
    "    text_no_small_words re.sub(r'\\b\\w (1,2)\\b',''text_no_hyperlinks)\n",
    "    print('去掉专门名词缩写后：'，text_no_small_words,'\\n')\n",
    "    "
   ]
  }
 ],
 "metadata": {
  "kernelspec": {
   "display_name": "Python [conda env:pytorch] *",
   "language": "python",
   "name": "conda-env-pytorch-py"
  },
  "language_info": {
   "codemirror_mode": {
    "name": "ipython",
    "version": 3
   },
   "file_extension": ".py",
   "mimetype": "text/x-python",
   "name": "python",
   "nbconvert_exporter": "python",
   "pygments_lexer": "ipython3",
   "version": "3.7.16"
  }
 },
 "nbformat": 4,
 "nbformat_minor": 5
}
