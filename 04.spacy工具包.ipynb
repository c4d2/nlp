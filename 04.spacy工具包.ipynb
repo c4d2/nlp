{
 "cells": [
  {
   "cell_type": "code",
   "execution_count": 5,
   "id": "f78297bb",
   "metadata": {},
   "outputs": [],
   "source": [
    "# 导入工具包和英文模型\n",
    "# python -m spacy download en \n",
    "import spacy \n",
    "nlp = spacy.load(\"en_core_web_sm\")"
   ]
  },
  {
   "cell_type": "code",
   "execution_count": 7,
   "id": "8734ba8d",
   "metadata": {},
   "outputs": [],
   "source": [
    "doc = nlp('Weather is good,very windy and sunny.We have no classes in the afternoon')"
   ]
  },
  {
   "cell_type": "code",
   "execution_count": 8,
   "id": "87e27c75",
   "metadata": {},
   "outputs": [
    {
     "data": {
      "text/plain": [
       "Weather is good,very windy and sunny.We have no classes in the afternoon"
      ]
     },
     "execution_count": 8,
     "metadata": {},
     "output_type": "execute_result"
    }
   ],
   "source": [
    "doc"
   ]
  },
  {
   "cell_type": "markdown",
   "id": "2661ccf6",
   "metadata": {},
   "source": [
    "#### 文本处理"
   ]
  },
  {
   "cell_type": "code",
   "execution_count": 12,
   "id": "290e53cd",
   "metadata": {},
   "outputs": [
    {
     "name": "stdout",
     "output_type": "stream",
     "text": [
      "Weather\n",
      "is\n",
      "good\n",
      ",\n",
      "very\n",
      "windy\n",
      "and\n",
      "sunny\n",
      ".\n",
      "We\n",
      "have\n",
      "no\n",
      "classes\n",
      "in\n",
      "the\n",
      "afternoon\n"
     ]
    }
   ],
   "source": [
    "# 分词\n",
    "for token in doc:\n",
    "    print(token)"
   ]
  },
  {
   "cell_type": "code",
   "execution_count": 13,
   "id": "95dea04b",
   "metadata": {},
   "outputs": [
    {
     "name": "stdout",
     "output_type": "stream",
     "text": [
      "Weather is good,very windy and sunny.\n",
      "We have no classes in the afternoon\n"
     ]
    }
   ],
   "source": [
    "# 分句\n",
    "for token in doc.sents:\n",
    "    print(token)"
   ]
  },
  {
   "cell_type": "markdown",
   "id": "5327b7ed",
   "metadata": {},
   "source": [
    "#### 词性"
   ]
  },
  {
   "cell_type": "code",
   "execution_count": 16,
   "id": "e0a37078",
   "metadata": {},
   "outputs": [
    {
     "name": "stdout",
     "output_type": "stream",
     "text": [
      "Weather-NOUN\n",
      "is-AUX\n",
      "good-ADJ\n",
      ",-PUNCT\n",
      "very-ADV\n",
      "windy-ADJ\n",
      "and-CCONJ\n",
      "sunny-ADJ\n",
      ".-PUNCT\n",
      "We-PRON\n",
      "have-VERB\n",
      "no-DET\n",
      "classes-NOUN\n",
      "in-ADP\n",
      "the-DET\n",
      "afternoon-NOUN\n"
     ]
    }
   ],
   "source": [
    "for token in doc:\n",
    "    print('{}-{}'.format(token,token.pos_))"
   ]
  },
  {
   "cell_type": "markdown",
   "id": "ff03aa35",
   "metadata": {},
   "source": [
    "#### 命名体识别"
   ]
  },
  {
   "cell_type": "code",
   "execution_count": 17,
   "id": "f2c8466e",
   "metadata": {},
   "outputs": [
    {
     "name": "stdout",
     "output_type": "stream",
     "text": [
      "Paris-GPE\n",
      "Jack-PERSON\n"
     ]
    }
   ],
   "source": [
    "doc = nlp('I went to Paris where I met my old friend Jack from uni')\n",
    "for ent in doc.ents:\n",
    "    print('{}-{}'.format(ent,ent.label_))"
   ]
  },
  {
   "cell_type": "code",
   "execution_count": 19,
   "id": "e053c7b4",
   "metadata": {},
   "outputs": [],
   "source": [
    "from spacy import displacy"
   ]
  },
  {
   "cell_type": "code",
   "execution_count": 21,
   "id": "07383b2c",
   "metadata": {},
   "outputs": [
    {
     "data": {
      "text/html": [
       "<span class=\"tex2jax_ignore\"><div class=\"entities\" style=\"line-height: 2.5; direction: ltr\">I went to \n",
       "<mark class=\"entity\" style=\"background: #feca74; padding: 0.45em 0.6em; margin: 0 0.25em; line-height: 1; border-radius: 0.35em;\">\n",
       "    Paris\n",
       "    <span style=\"font-size: 0.8em; font-weight: bold; line-height: 1; border-radius: 0.35em; vertical-align: middle; margin-left: 0.5rem\">GPE</span>\n",
       "</mark>\n",
       " where I met my old friend \n",
       "<mark class=\"entity\" style=\"background: #aa9cfc; padding: 0.45em 0.6em; margin: 0 0.25em; line-height: 1; border-radius: 0.35em;\">\n",
       "    Jack\n",
       "    <span style=\"font-size: 0.8em; font-weight: bold; line-height: 1; border-radius: 0.35em; vertical-align: middle; margin-left: 0.5rem\">PERSON</span>\n",
       "</mark>\n",
       " from uni</div></span>"
      ],
      "text/plain": [
       "<IPython.core.display.HTML object>"
      ]
     },
     "metadata": {},
     "output_type": "display_data"
    }
   ],
   "source": [
    "displacy.render(doc,style='ent',jupyter = True)"
   ]
  },
  {
   "cell_type": "markdown",
   "id": "6c8e768e",
   "metadata": {},
   "source": [
    "# 找到书中所有人名"
   ]
  },
  {
   "cell_type": "code",
   "execution_count": 41,
   "id": "cb1a3644",
   "metadata": {},
   "outputs": [],
   "source": [
    "def read_file(filename):\n",
    "    with open(filename,'r') as file:\n",
    "        return file.read()"
   ]
  },
  {
   "cell_type": "code",
   "execution_count": 42,
   "id": "04cb399b",
   "metadata": {},
   "outputs": [],
   "source": [
    "text = read_file('./data/Pride and Prejudice.txt')\n",
    "processed_text = nlp(text)"
   ]
  },
  {
   "cell_type": "code",
   "execution_count": 43,
   "id": "f73ab8de",
   "metadata": {},
   "outputs": [
    {
     "data": {
      "text/plain": [
       "2119"
      ]
     },
     "execution_count": 43,
     "metadata": {},
     "output_type": "execute_result"
    }
   ],
   "source": [
    "sentences = [s for s in processed_text]\n",
    "len(sentences)"
   ]
  },
  {
   "cell_type": "code",
   "execution_count": 44,
   "id": "35a0bb6c",
   "metadata": {},
   "outputs": [],
   "source": [
    "# 记录人名的个数\n",
    "from collections import Counter"
   ]
  },
  {
   "cell_type": "code",
   "execution_count": 52,
   "id": "6944e75e",
   "metadata": {},
   "outputs": [
    {
     "name": "stdout",
     "output_type": "stream",
     "text": [
      "Counter({'Bennet': 140, 'Bingley': 100, 'Long': 60, 'Lizzy': 50, 'Kitty': 40, 'Mary': 30, 'Morris': 10, 'Michaelmas': 10, 'William': 10, 'Lady Lucas': 10, 'Jane': 10, 'Elizabeth': 10, 'Lydia': 10})\n"
     ]
    }
   ],
   "source": [
    "def find_person(doc):\n",
    "    c = Counter()\n",
    "    for ent in processed_text.ents:\n",
    "        if ent.label_ == 'PERSON':\n",
    "            c[ent.lemma_]+=10\n",
    "    return c\n",
    "print (find_person(processed_text))"
   ]
  },
  {
   "cell_type": "markdown",
   "id": "f9ca7963",
   "metadata": {},
   "source": [
    "# 恐怖袭击分析"
   ]
  },
  {
   "cell_type": "code",
   "execution_count": null,
   "id": "90f83ad1",
   "metadata": {},
   "outputs": [],
   "source": []
  }
 ],
 "metadata": {
  "kernelspec": {
   "display_name": "Python [conda env:pytorch] *",
   "language": "python",
   "name": "conda-env-pytorch-py"
  },
  "language_info": {
   "codemirror_mode": {
    "name": "ipython",
    "version": 3
   },
   "file_extension": ".py",
   "mimetype": "text/x-python",
   "name": "python",
   "nbconvert_exporter": "python",
   "pygments_lexer": "ipython3",
   "version": "3.7.16"
  }
 },
 "nbformat": 4,
 "nbformat_minor": 5
}
