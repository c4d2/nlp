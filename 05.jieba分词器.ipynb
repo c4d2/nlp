{
 "cells": [
  {
   "cell_type": "markdown",
   "id": "147da4af",
   "metadata": {},
   "source": [
    "## 分词工具"
   ]
  },
  {
   "cell_type": "code",
   "execution_count": 31,
   "id": "5bb26df7",
   "metadata": {},
   "outputs": [
    {
     "name": "stdout",
     "output_type": "stream",
     "text": [
      "['我', '考上', '了', '清华', '清华大学', '华大', '大学']\n",
      "['我', '来到', '北京', '清华大学']\n",
      "['他', '来到', '了', '网易', '杭研', '大厦']\n"
     ]
    }
   ],
   "source": [
    "import jieba\n",
    "seg_list = jieba.cut(\"我考上了清华大学\",cut_all = True)#全模式\n",
    "result = list(seg_list)\n",
    "print(result)\n",
    "seg_list=jieba.cut(\"我来到北京清华大学\",cut_all=False)#精确模式\n",
    "result = list(seg_list)\n",
    "print(result)\n",
    "seg_list=jieba.cut(\"他来到了网易杭研大厦\")#默认是精确模式\n",
    "result = list(seg_list)\n",
    "print(result)"
   ]
  },
  {
   "cell_type": "markdown",
   "id": "c0485328",
   "metadata": {},
   "source": [
    "## 添加自定义词典"
   ]
  },
  {
   "cell_type": "code",
   "execution_count": 42,
   "id": "1e26a6dd",
   "metadata": {},
   "outputs": [
    {
     "name": "stdout",
     "output_type": "stream",
     "text": [
      "['故宫', '的', '著名', '著名景点', '景点', '包括', '乾清宫', '清宫', '、', '太和', '太和殿', '和', '黄琉璃瓦', '琉璃', '琉璃瓦', '等']\n",
      "['故宫', '的', '著名景点', '包括', '乾清宫', '、', '太和殿', '和', '黄琉璃瓦', '等']\n"
     ]
    }
   ],
   "source": [
    "jieba.load_userdict(\"./data/mydict.txt\")#需UIF-8,可以在另存为里面设置\n",
    "\n",
    "#也可以用jieba.add word(乾清宫)\n",
    "\n",
    "text=\"故宫的著名景点包括乾清宫、太和殿和黄琉璃瓦等\"\n",
    "#全模式\n",
    "seg_list = jieba.cut(text,cut_all=True)\n",
    "print(list(seg_list))\n",
    "#精确模式\n",
    "seg_list = jieba.cut(text,cut_all=False)\n",
    "print(list(seg_list))"
   ]
  },
  {
   "cell_type": "markdown",
   "id": "a60d1b7c",
   "metadata": {},
   "source": [
    "# 关键词抽取"
   ]
  },
  {
   "cell_type": "code",
   "execution_count": 43,
   "id": "6427363f",
   "metadata": {},
   "outputs": [
    {
     "name": "stdout",
     "output_type": "stream",
     "text": [
      "著名景点 2.3167796086666668\n",
      "乾清宫 1.9924612504833332\n",
      "黄琉璃瓦 1.9924612504833332\n",
      "太和殿 1.6938346722833335\n",
      "故宫 1.5411195503033335\n"
     ]
    }
   ],
   "source": [
    "import jieba.analyse\n",
    "tags = jieba.analyse.extract_tags(text,topK=5,withWeight=True)\n",
    "for word,weight in tags:\n",
    "#     权重值代表每个词的重要程度\n",
    "    print (word,weight)"
   ]
  },
  {
   "cell_type": "code",
   "execution_count": null,
   "id": "44b256c7",
   "metadata": {},
   "outputs": [],
   "source": []
  }
 ],
 "metadata": {
  "kernelspec": {
   "display_name": "Python [conda env:pytorch] *",
   "language": "python",
   "name": "conda-env-pytorch-py"
  },
  "language_info": {
   "codemirror_mode": {
    "name": "ipython",
    "version": 3
   },
   "file_extension": ".py",
   "mimetype": "text/x-python",
   "name": "python",
   "nbconvert_exporter": "python",
   "pygments_lexer": "ipython3",
   "version": "3.7.16"
  }
 },
 "nbformat": 4,
 "nbformat_minor": 5
}
