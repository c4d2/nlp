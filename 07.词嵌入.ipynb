{
 "cells": [
  {
   "cell_type": "code",
   "execution_count": 4,
   "id": "e03d6c17",
   "metadata": {},
   "outputs": [
    {
     "data": {
      "text/plain": [
       "[['Ariana', 'Grande', 'is', 'a', 'singer'],\n",
       " ['She', 'has', 'been', 'a', 'singer', 'for', 'many', 'years'],\n",
       " ['Ariana', 'is', 'a', 'great', 'singer']]"
      ]
     },
     "execution_count": 4,
     "metadata": {},
     "output_type": "execute_result"
    }
   ],
   "source": [
    "from gensim.models import Word2Vec as wtv\n",
    "from nltk import word_tokenize\n",
    "s1 = \"Ariana Grande is a singer\"\n",
    "s2 = \"She has been a singer for many years\"\n",
    "s3 = \"Ariana is a great singer\"\n",
    "sentences = [word_tokenize(s1),word_tokenize(s2),word_tokenize(s3)]\n",
    "sentences"
   ]
  },
  {
   "cell_type": "code",
   "execution_count": 5,
   "id": "c6540a9d",
   "metadata": {},
   "outputs": [],
   "source": [
    "model = wtv(sentences,min_count=1)"
   ]
  },
  {
   "cell_type": "code",
   "execution_count": 6,
   "id": "ac8f4e9d",
   "metadata": {},
   "outputs": [
    {
     "name": "stdout",
     "output_type": "stream",
     "text": [
      "Word2Vec<vocab=12, vector_size=100, alpha=0.025>\n"
     ]
    }
   ],
   "source": [
    "print(model)"
   ]
  },
  {
   "cell_type": "code",
   "execution_count": 11,
   "id": "e3081442",
   "metadata": {},
   "outputs": [
    {
     "name": "stdout",
     "output_type": "stream",
     "text": [
      "['singer', 'a', 'is', 'Ariana', 'great', 'years', 'many', 'for', 'been', 'has', 'She', 'Grande']\n"
     ]
    }
   ],
   "source": [
    "# 让我们通过总结来找出词汇中有哪些单词\n",
    "words = list(model.wv.index_to_key)\n",
    "print(words)"
   ]
  },
  {
   "cell_type": "code",
   "execution_count": 14,
   "id": "6606cb28",
   "metadata": {},
   "outputs": [
    {
     "name": "stdout",
     "output_type": "stream",
     "text": [
      "[-5.3670903e-04  2.3654776e-04  5.1033013e-03  9.0087587e-03\n",
      " -9.3034701e-03 -7.1168868e-03  6.4591160e-03  8.9731934e-03\n",
      " -5.0157867e-03 -3.7637525e-03  7.3802285e-03 -1.5335988e-03\n",
      " -4.5370143e-03  6.5535204e-03 -4.8603117e-03 -1.8164793e-03\n",
      "  2.8762463e-03  9.9156075e-04 -8.2853446e-03 -9.4489129e-03\n",
      "  7.3112715e-03  5.0702216e-03  6.7581432e-03  7.6329004e-04\n",
      "  6.3504917e-03 -3.4055682e-03 -9.4623043e-04  5.7680449e-03\n",
      " -7.5215572e-03 -3.9357450e-03 -7.5112651e-03 -9.3052594e-04\n",
      "  9.5378691e-03 -7.3196162e-03 -2.3337672e-03 -1.9372308e-03\n",
      "  8.0777649e-03 -5.9306161e-03  4.5440625e-05 -4.7539137e-03\n",
      " -9.6030235e-03  5.0068870e-03 -8.7599885e-03 -4.3919506e-03\n",
      " -3.5142963e-05 -2.9636017e-04 -7.6612728e-03  9.6151549e-03\n",
      "  4.9820179e-03  9.2330538e-03 -8.1577664e-03  4.4953357e-03\n",
      " -4.1366438e-03  8.2500611e-04  8.4980894e-03 -4.4620428e-03\n",
      "  4.5180470e-03 -6.7873849e-03 -3.5488734e-03  9.3980804e-03\n",
      " -1.5771905e-03  3.2133397e-04 -4.1401251e-03 -7.6831384e-03\n",
      " -1.5078027e-03  2.4699403e-03 -8.8798715e-04  5.5337902e-03\n",
      " -2.7433895e-03  2.2595485e-03  5.4559242e-03  8.3462913e-03\n",
      " -1.4532998e-03 -9.2078261e-03  4.3705082e-03  5.7224347e-04\n",
      "  7.4413912e-03 -8.1309589e-04 -2.6383991e-03 -8.7527959e-03\n",
      " -8.5614918e-04  2.8261908e-03  5.4017361e-03  7.0521296e-03\n",
      " -5.7031671e-03  1.8583389e-03  6.0885809e-03 -4.7975397e-03\n",
      " -3.1073643e-03  6.7977891e-03  1.6319752e-03  1.9041049e-04\n",
      "  3.4731841e-03  2.1761001e-04  9.6193720e-03  5.0608856e-03\n",
      " -8.9174788e-03 -7.0420410e-03  9.0161938e-04  6.3921656e-03]\n"
     ]
    }
   ],
   "source": [
    "# 让我们看看singer这个词的向量(词嵌入)是什么\n",
    "print(model.wv['singer'])"
   ]
  },
  {
   "cell_type": "code",
   "execution_count": 16,
   "id": "cb6ea271",
   "metadata": {},
   "outputs": [
    {
     "data": {
      "text/plain": [
       "[('is', 0.17018888890743256),\n",
       " ('years', 0.13887983560562134),\n",
       " ('many', 0.03476082533597946),\n",
       " ('a', 0.004503011237829924),\n",
       " ('Grande', -0.005896783899515867),\n",
       " ('singer', -0.027741916477680206)]"
      ]
     },
     "execution_count": 16,
     "metadata": {},
     "output_type": "execute_result"
    }
   ],
   "source": [
    "#lookup top 6 similar words to great\n",
    "# 查看与 great 相似的词性，但这里由于词汇量太小，所以相似词性的显示并不标准\n",
    "w1 = [\"great\"]\n",
    "model.wv.most_similar(positive=w1,topn=6)"
   ]
  },
  {
   "cell_type": "code",
   "execution_count": 20,
   "id": "15e210ea",
   "metadata": {},
   "outputs": [
    {
     "data": {
      "text/plain": [
       "[('Grande', 0.10941850394010544),\n",
       " ('for', 0.10889530181884766),\n",
       " ('singer', 0.06285227090120316),\n",
       " ('many', 0.05048394203186035),\n",
       " ('been', 0.02680680900812149),\n",
       " ('years', 0.02000037021934986)]"
      ]
     },
     "execution_count": 20,
     "metadata": {},
     "output_type": "execute_result"
    }
   ],
   "source": [
    "model.wv.most_similar(positive=\"She\",topn=6)"
   ]
  },
  {
   "cell_type": "code",
   "execution_count": null,
   "id": "545d46d2",
   "metadata": {},
   "outputs": [],
   "source": []
  }
 ],
 "metadata": {
  "kernelspec": {
   "display_name": "Python [conda env:pytorch] *",
   "language": "python",
   "name": "conda-env-pytorch-py"
  },
  "language_info": {
   "codemirror_mode": {
    "name": "ipython",
    "version": 3
   },
   "file_extension": ".py",
   "mimetype": "text/x-python",
   "name": "python",
   "nbconvert_exporter": "python",
   "pygments_lexer": "ipython3",
   "version": "3.7.16"
  }
 },
 "nbformat": 4,
 "nbformat_minor": 5
}
